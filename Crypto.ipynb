{
  "nbformat": 4,
  "nbformat_minor": 0,
  "metadata": {
    "colab": {
      "provenance": [],
      "authorship_tag": "ABX9TyO3BaenKltNJ8II/hCRH3Xl",
      "include_colab_link": true
    },
    "kernelspec": {
      "name": "python3",
      "display_name": "Python 3"
    },
    "language_info": {
      "name": "python"
    }
  },
  "cells": [
    {
      "cell_type": "markdown",
      "metadata": {
        "id": "view-in-github",
        "colab_type": "text"
      },
      "source": [
        "<a href=\"https://colab.research.google.com/github/AlfredoMijares/Inventado/blob/main/Crypto.ipynb\" target=\"_parent\"><img src=\"https://colab.research.google.com/assets/colab-badge.svg\" alt=\"Open In Colab\"/></a>"
      ]
    },
    {
      "cell_type": "code",
      "execution_count": 3,
      "metadata": {
        "colab": {
          "base_uri": "https://localhost:8080/"
        },
        "id": "Q4u-ONOc0joC",
        "outputId": "ee0e580b-44e3-4b3d-d898-fc5b1f644cfa"
      },
      "outputs": [
        {
          "output_type": "stream",
          "name": "stdout",
          "text": [
            "Longitud estimada de la clave: 7\n",
            "Clave encontrada: MERMAID\n",
            "Texto descifrado: FAROUTINTHEOCEANWHERETHEWATERISASBLUEASTHEPRETTIESTCORNFLOWERANDASCLEARASCRYSTALITISVERYVERYDEEPSODEEPINDEEDTHATNOCABLECOULDFATHOMITMANYCHURCHSTEEPLESPILEDONEUPONANOTHERWOULDNOTREACHFROMTHEGROUNDBENEATHTOTHESURFACEOFTHEWATERABOVETHEREDWELLTHESEAKINGANDHISSUBJECTSWEMUSTNOTIMAGINETHATTHEREISNOTHINGATTHEBOTTOMOFTHESEABUTBAREYELLOWSAND\n",
            "Texto organizado final: Far out in the ocean, where the water is as blue as the prettiest cornflower and as clear as crystal, it is very, very deep. So deep indeed that no cable could fathom it; many church steeples piled one upon another would not reach from the ground beneath to the surface of the water above. There dwell the Sea King and his subjects. We must not imagine that there is nothing at the bottom of the sea but bare yellow sand.\n"
          ]
        }
      ],
      "source": [
        "from collections import Counter\n",
        "import numpy as np\n",
        "\n",
        "# Texto cifrado (sin espacios ni caracteres especiales)\n",
        "ciphertext = \"REIAUBLZXYQOKHMRNTEZHFLVIABHDMJMSJOGIRETPHBVVFTQHEXTARVIXSNQRIQPEJOLMDDEJORGVFECUTQVHIIKVMUKHVQPARPIVBIVGQIUFHIWZSTMBTHOSLXDNDFLFYIBPMRPOHCUOLJFEMSXIJBITHPSEQUXRZEEATPHDAFGLLQAXIQAKKRVFYTPHSVFGNLEQRVMTPWAXYQSCURETQONWTINMTMUMFFHEBKQVVPWMOXXYQSMDWMESAVGTMJEUJMQGKEWMPGWKZOBLYEXUNMWTEKFHMUQMJZOBKURXMTBKQFFFTWPAJKTEAHMFLFBIUQCVXLWZEEEP\"  # Completar con todo el texto\n",
        "\n",
        "# Frecuencia de letras en inglés\n",
        "english_freqs = {\n",
        "    'A': 0.082, 'B': 0.015, 'C': 0.028, 'D': 0.043, 'E': 0.13,\n",
        "    'F': 0.022, 'G': 0.02, 'H': 0.061, 'I': 0.07, 'J': 0.002,\n",
        "    'K': 0.008, 'L': 0.04, 'M': 0.024, 'N': 0.067, 'O': 0.075,\n",
        "    'P': 0.019, 'Q': 0.001, 'R': 0.06, 'S': 0.063, 'T': 0.091,\n",
        "    'U': 0.028, 'V': 0.01, 'W': 0.023, 'X': 0.001, 'Y': 0.02, 'Z': 0.001\n",
        "}\n",
        "\n",
        "# Función para calcular el Índice de Coincidencia\n",
        "# Este código calcula el Índice de Coincidencia (IC) de un texto dado.\n",
        "#El IC es una medida estadística utilizada en criptografía para analizar la\n",
        "# distribución de las letras en un texto y detectar si es un texto cifrado con\n",
        "# un cifrado monoalfabético o polialfabético.\n",
        "\n",
        "def index_of_coincidence(text):\n",
        "    N = len(text)\n",
        "    freqs = Counter(text)\n",
        "    IC = sum(f * (f - 1) for f in freqs.values()) / (N * (N - 1))\n",
        "    return IC\n",
        "\n",
        "# Función para estimar la longitud de la clave\n",
        "# Este código implementa una función para estimar la longitud de la clave de un texto cifrado, utilizando el Índice de Coincidencia (IC).\n",
        "# Se usa en el criptoanálisis de cifrados polialfabéticos como Vigenère, donde el IC puede ayudar a detectar el tamaño de la clave.\n",
        "\n",
        "def estimate_key_length(text, max_key_length=10):\n",
        "    ICs = []\n",
        "    for key_length in range(1, max_key_length + 1):\n",
        "        avg_IC = np.mean([index_of_coincidence(text[i::key_length]) for i in range(key_length)])\n",
        "        ICs.append((key_length, avg_IC))\n",
        "    return sorted(ICs, key=lambda x: -x[1])  # Ordenar de mayor a menor IC\n",
        "\n",
        "# Determinar la clave usando análisis de frecuencia\n",
        "# Este código implementa un ataque de análisis de frecuencia para determinar la clave de un texto cifrado con el cifrado Vigenère.\n",
        "# Se basa en el cálculo de la prueba de chi-cuadrado para identificar el desplazamiento más probable de cada segmento del texto.\n",
        "def find_vigenere_key(text, key_length):\n",
        "    key = \"\"\n",
        "    for i in range(key_length):\n",
        "        segment = text[i::key_length]\n",
        "        chi_squares = []\n",
        "        for shift in range(26):\n",
        "            shifted_text = ''.join(chr(((ord(c) - ord('A') - shift) % 26) + ord('A')) for c in segment)\n",
        "            shifted_freqs = Counter(shifted_text)\n",
        "            total_chars = len(segment)\n",
        "            chi_square = sum(((shifted_freqs.get(chr(j + ord('A')), 0) / total_chars) - english_freqs[chr(j + ord('A'))]) ** 2 for j in range(26))\n",
        "            chi_squares.append((shift, chi_square))\n",
        "        best_shift = min(chi_squares, key=lambda x: x[1])[0]\n",
        "        key += chr(best_shift + ord('A'))\n",
        "    return key\n",
        "\n",
        "# Descifrar texto cifrado con la clave obtenida\n",
        "def decrypt_vigenere(text, key):\n",
        "    key_length = len(key)\n",
        "    decrypted_text = \"\"\n",
        "    for i, char in enumerate(text):\n",
        "        shift = ord(key[i % key_length]) - ord('A')\n",
        "        decrypted_text += chr(((ord(char) - ord('A') - shift) % 26) + ord('A'))\n",
        "    return decrypted_text\n",
        "\n",
        "# Ejecución del ataque\n",
        "estimated_keys = estimate_key_length(ciphertext)\n",
        "best_key_length = estimated_keys[0][0]  # Tomar la mejor estimación\n",
        "found_key = find_vigenere_key(ciphertext, best_key_length)\n",
        "decrypted_text = decrypt_vigenere(ciphertext, found_key)\n",
        "\n",
        "print(f\"Longitud estimada de la clave: {best_key_length}\")\n",
        "print(f\"Clave encontrada: {found_key}\")\n",
        "print(f\"Texto descifrado: {decrypted_text}\")\n",
        "print(f\"Texto organizado final: Far out in the ocean, where the water is as blue as the prettiest cornflower and as clear as crystal, it is very, very deep. So deep indeed that no cable could fathom it; many church steeples piled one upon another would not reach from the ground beneath to the surface of the water above. There dwell the Sea King and his subjects. We must not imagine that there is nothing at the bottom of the sea but bare yellow sand.\")\n"
      ]
    }
  ]
}